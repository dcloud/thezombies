{
 "metadata": {
  "name": "",
  "signature": "sha256:804c237e42583df9a18d16dd95054cfbefb57781e401806fcef48e3d16407940"
 },
 "nbformat": 3,
 "nbformat_minor": 0,
 "worksheets": [
  {
   "cells": [
    {
     "cell_type": "code",
     "collapsed": false,
     "input": [
      "import csv\n",
      "import re\n",
      "import json\n",
      "import os\n",
      "import hashlib\n",
      "\n",
      "from thezombies import (AuditableRequest, AuditableResponse)\n",
      "from thezombies.utils import is_valid_url\n",
      "\n",
      "import requests\n",
      "from concurrent.futures import ThreadPoolExecutor\n",
      "from requests_futures.sessions import FuturesSession\n",
      "\n",
      "session = FuturesSession(executor=ThreadPoolExecutor(max_workers=10))\n",
      "\n",
      "# A riff on http://tools.ietf.org/html/rfc3986#appendix-B\n",
      "RFC_URL_REGEX = \"^((https?):)(//([^/?#]+))([^?#]*)(\\?([^#]*))?(#(.*))?$\"\n",
      "\n",
      "url_matcher = re.compile(RFC_URL_REGEX, flags=re.I|re.U)\n",
      "\n",
      "IMPORTANT_HEADERS = ('Agency', '/data' '/data.json', 'JSON Error?')\n",
      "\n",
      "TMP_SAVE = os.path.abspath('./tmp')"
     ],
     "language": "python",
     "metadata": {},
     "outputs": [],
     "prompt_number": 1
    },
    {
     "cell_type": "code",
     "collapsed": false,
     "input": [
      "class NotFoundError(Exception):\n",
      "    \"\"\" Raised when passing an search fails\"\"\"\n",
      "    pass\n",
      "\n",
      "def find_object_with_url(url, objects):\n",
      "    def url_in_values(item):\n",
      "        return url in item.values()\n",
      "    results = list(filter(url_in_values, objects))\n",
      "    if len(results) is 1:\n",
      "        return results[0]\n",
      "    else:\n",
      "        raise NotFoundError\n"
     ],
     "language": "python",
     "metadata": {},
     "outputs": [],
     "prompt_number": 2
    },
    {
     "cell_type": "code",
     "collapsed": false,
     "input": [
      "reader = csv.DictReader(open('open_data_data_inventory_audit.csv', 'r'))\n",
      "audit_objects = list(reader)\n",
      "\n",
      "futures = []\n",
      "for item in audit_objects[:4]:\n",
      "    data_json_url = item.get('/data.json')\n",
      "    print(data_json_url)\n",
      "    if is_valid_url(data_json_url):\n",
      "        f = session.get(data_json_url)\n",
      "        futures.append(f)"
     ],
     "language": "python",
     "metadata": {},
     "outputs": [
      {
       "output_type": "stream",
       "stream": "stdout",
       "text": [
        "http://www.usda.gov/data.json\n",
        "http://www.commerce.gov/data.json\n",
        "http://www.defense.gov/data.json\n",
        "http://www2.ed.gov/data.json\n"
       ]
      }
     ],
     "prompt_number": 3
    },
    {
     "cell_type": "code",
     "collapsed": false,
     "input": [
      "for f in futures:\n",
      "    result = f.result()\n",
      "    resp = AuditableResponse(result)\n",
      "    print(resp.audit())"
     ],
     "language": "python",
     "metadata": {},
     "outputs": [
      {
       "output_type": "stream",
       "stream": "stdout",
       "text": [
        "{'encoding': 'ISO-8859-1', 'json_is_valid': True, 'content_type': 'text/plain', 'apparent_encoding': 'utf-8', 'url_is_valid': True, 'url': 'http://www.usda.gov/data.json', 'time_elapsed': datetime.timedelta(0, 1, 247493), 'status_code': 200}\n",
        "{'encoding': 'ISO-8859-1', 'json_is_valid': True, 'content_type': 'text/plain', 'apparent_encoding': 'ISO-8859-2', 'url_is_valid': True, 'url': 'http://www.commerce.gov/data.json', 'time_elapsed': datetime.timedelta(0, 0, 431114), 'status_code': 200}"
       ]
      },
      {
       "output_type": "stream",
       "stream": "stdout",
       "text": [
        "\n",
        "{'encoding': None, 'json_is_valid': False, 'content_type': 'application/json', 'apparent_encoding': 'ascii', 'url_is_valid': True, 'url': 'http://www.defense.gov/data.json', 'time_elapsed': datetime.timedelta(0, 0, 434975), 'status_code': 200}\n",
        "{'encoding': 'ISO-8859-1', 'json_is_valid': True, 'content_type': 'text/plain', 'apparent_encoding': 'ISO-8859-2', 'url_is_valid': True, 'url': 'http://www2.ed.gov/data.json', 'time_elapsed': datetime.timedelta(0, 0, 513710), 'status_code': 200}"
       ]
      },
      {
       "output_type": "stream",
       "stream": "stdout",
       "text": [
        "\n"
       ]
      }
     ],
     "prompt_number": 4
    },
    {
     "cell_type": "code",
     "collapsed": false,
     "input": [],
     "language": "python",
     "metadata": {},
     "outputs": [],
     "prompt_number": 6
    },
    {
     "cell_type": "code",
     "collapsed": false,
     "input": [],
     "language": "python",
     "metadata": {},
     "outputs": [
      {
       "metadata": {},
       "output_type": "pyout",
       "prompt_number": 9,
       "text": [
        "'1.247493'"
       ]
      }
     ],
     "prompt_number": 9
    },
    {
     "cell_type": "code",
     "collapsed": false,
     "input": [],
     "language": "python",
     "metadata": {},
     "outputs": []
    }
   ],
   "metadata": {}
  }
 ]
}