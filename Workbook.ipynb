{
 "metadata": {
  "name": "",
  "signature": "sha256:c9b3f4eac016bf8e53835abf9b9bcc4ff1c56ce20afa03eef4edce4ee6e73067"
 },
 "nbformat": 3,
 "nbformat_minor": 0,
 "worksheets": [
  {
   "cells": [
    {
     "cell_type": "code",
     "collapsed": false,
     "input": [
      "import csv\n",
      "import re\n",
      "import json\n",
      "import os\n",
      "import pprint\n",
      "import chardet\n",
      "\n",
      "from thezombies import (AuditableRequest, AuditableResponse)\n",
      "from thezombies.utils import is_valid_url\n",
      "\n",
      "import requests\n",
      "from concurrent.futures import ThreadPoolExecutor\n",
      "from requests_futures.sessions import FuturesSession\n",
      "\n",
      "session = FuturesSession(executor=ThreadPoolExecutor(max_workers=20))\n",
      "\n",
      "# A riff on http://tools.ietf.org/html/rfc3986#appendix-B\n",
      "RFC_URL_REGEX = \"^((https?):)(//([^/?#]+))([^?#]*)(\\?([^#]*))?(#(.*))?$\"\n",
      "\n",
      "url_matcher = re.compile(RFC_URL_REGEX, flags=re.I|re.U)\n",
      "\n",
      "IMPORTANT_HEADERS = ('Agency', '/data' '/data.json', 'JSON Error?')\n",
      "\n",
      "TMP_SAVE = os.path.abspath('./tmp')"
     ],
     "language": "python",
     "metadata": {},
     "outputs": [],
     "prompt_number": 1
    },
    {
     "cell_type": "code",
     "collapsed": false,
     "input": [
      "class NotFoundError(Exception):\n",
      "    \"\"\" Raised when passing an search fails\"\"\"\n",
      "    pass\n",
      "\n",
      "def find_object_with_url(url, objects):\n",
      "    def url_in_values(item):\n",
      "        return url in item.values()\n",
      "    results = list(filter(url_in_values, objects))\n",
      "    if len(results) is 1:\n",
      "        return results[0]\n",
      "    else:\n",
      "        raise NotFoundError\n"
     ],
     "language": "python",
     "metadata": {},
     "outputs": [],
     "prompt_number": 2
    },
    {
     "cell_type": "code",
     "collapsed": false,
     "input": [
      "reader = csv.DictReader(open('open_data_data_inventory_audit.csv', 'r'))\n",
      "audit_objects = list(reader)"
     ],
     "language": "python",
     "metadata": {},
     "outputs": [],
     "prompt_number": 3
    },
    {
     "cell_type": "code",
     "collapsed": false,
     "input": [
      "responses = []\n",
      "\n",
      "def bg_cb(sess, resp):\n",
      "    aresp = AuditableResponse(resp)\n",
      "    responses.append(aresp)"
     ],
     "language": "python",
     "metadata": {},
     "outputs": [],
     "prompt_number": 4
    },
    {
     "cell_type": "code",
     "collapsed": false,
     "input": [
      "valid_data_urls = [x for x in audit_objects if is_valid_url(x.get('/data.json'))]\n",
      "print(\"{} valid urls out of {} objects\".format(len(valid_data_urls), len(audit_objects)))"
     ],
     "language": "python",
     "metadata": {},
     "outputs": [
      {
       "output_type": "stream",
       "stream": "stdout",
       "text": [
        "32 valid urls out of 35 objects\n"
       ]
      }
     ],
     "prompt_number": 5
    },
    {
     "cell_type": "code",
     "collapsed": false,
     "input": [
      "for item in valid_data_urls:\n",
      "    data_json_url = item.get('/data.json')\n",
      "#     print(\"URL: '{}'\".format(data_json_url))\n",
      "    session.get(data_json_url, background_callback=bg_cb)"
     ],
     "language": "python",
     "metadata": {},
     "outputs": [],
     "prompt_number": 6
    },
    {
     "cell_type": "code",
     "collapsed": false,
     "input": [
      "print(\"{} responses\\n\".format(len(responses)))\n",
      "\n",
      "for r in responses:\n",
      "    print(r.url)\n",
      "    print(r.status_code, r.seconds_elapsed)\n",
      "    print(r.instance.apparent_encoding)\n",
      "    decoded_content = r.content.decode(r.instance.apparent_encoding)\n",
      "#     print(decoded_content.encoding())\n",
      "#     ar = AuditableResponse(r)\n",
      "#     audit = ar.audit()\n",
      "#     print(\"Size {0:f}bytes\".format(audit.get('content_length')))\n",
      "#     print(\"JSON is valid: {}\".format(ar.json_is_valid))\n",
      "#     try:\n",
      "#         uni_txt = ar.unicode_text\n",
      "#         print(uni_txt[:40])\n",
      "#     except Exception as e:\n",
      "#         print('Unicoding error. Fun')\n",
      "#     jsondata = r.json()\n",
      "#     print(jsondata[:40])\n",
      "#     print(chardet.detect(r.content))\n",
      "    print('\\n')"
     ],
     "language": "python",
     "metadata": {},
     "outputs": []
    },
    {
     "cell_type": "code",
     "collapsed": false,
     "input": [
      "failures = filter(lambda x: (getattr(x, 'status_code') != 200), responses)\n",
      "for f in failures:\n",
      "    print(f.audit())"
     ],
     "language": "python",
     "metadata": {},
     "outputs": [],
     "prompt_number": 8
    },
    {
     "cell_type": "code",
     "collapsed": false,
     "input": [
      "resp0 = responses[0]\n",
      "print(resp0.instance.url)\n",
      "try:\n",
      "    data = json.loads(resp0.instance.content.decode())\n",
      "    print(data)\n",
      "except Exception as e:\n",
      "    print(e)"
     ],
     "language": "python",
     "metadata": {},
     "outputs": [
      {
       "output_type": "stream",
       "stream": "stdout",
       "text": [
        "http://www.sec.gov/data.json\n",
        "[{'license': None, 'spatial': None, 'format': None, 'description': None, 'identifier': None, 'keyword': None, 'title': None, 'programCode': None, 'mbox': None, 'contactPoint': None, 'accessLevelComment': None, 'publisher': None, 'webService': None, 'bureauCode': None, 'temporal': None, 'accessURL': None, 'modified': None, 'accessLevel': None}, {'license': None, 'spatial': None, 'format': None, 'description': 'Form 13F, Report of Institutional Investment Managers pursuant to Section 13(f) of the Securities Exchange Act of 1934', 'identifier': '270-22', 'keyword': None, 'title': 'Form 13F', 'programCode': 'Investment Management', 'mbox': 'opengov@sec.gov ', 'contactPoint': 'Thomas Zellers', 'accessLevelComment': None, 'publisher': 'EDGAR', 'webService': None, 'bureauCode': '449', 'temporal': None, 'accessURL': None, 'modified': None, 'accessLevel': 'Public'}, {'license': None, 'spatial': None, 'format': None, 'description': 'Form N-2 under the Investment Company Act of 1940 and Securities Act of 1933, Registration Statement of Closed-End Management Investment Companies', 'identifier': '270-022', 'keyword': None, 'title': 'Form N-2', 'programCode': 'Investment Management', 'mbox': 'opengov@sec.gov ', 'contactPoint': 'Thomas Zellers', 'accessLevelComment': None, 'publisher': 'EDGAR', 'webService': None, 'bureauCode': '449', 'temporal': None, 'accessURL': None, 'modified': None, 'accessLevel': 'Public'}, {'license': None, 'spatial': None, 'format': None, 'description': 'Rule 204-3 (17 CFR 275.204-3) under the Investment Advisers Act of 1940, Form ADV Part 2 brochures provided to clients', 'identifier': '270-42', 'keyword': None, 'title': 'Form ADV Part 2', 'programCode': 'Investment Management', 'mbox': 'opengov@sec.gov ', 'contactPoint': 'Thomas Zellers', 'accessLevelComment': None, 'publisher': 'FINRA', 'webService': None, 'bureauCode': '449', 'temporal': None, 'accessURL': None, 'modified': None, 'accessLevel': 'Public'}, {'license': None, 'spatial': None, 'format': None, 'description': 'Form ADV Uniform application for investment adviser registration and report by exempt reporting advisers', 'identifier': '270-39', 'keyword': None, 'title': 'Form ADV', 'programCode': 'Investment Management', 'mbox': 'opengov@sec.gov ', 'contactPoint': 'Thomas Zellers', 'accessLevelComment': None, 'publisher': 'FINRA', 'webService': None, 'bureauCode': '449', 'temporal': None, 'accessURL': None, 'modified': None, 'accessLevel': 'public'}, {'license': None, 'spatial': None, 'format': None, 'description': 'Form N-8F Application for Deregistration of Certain Registered Investment Companies', 'identifier': '270-136', 'keyword': None, 'title': 'Form N-8F', 'programCode': 'Investment Management', 'mbox': 'opengov@sec.gov ', 'contactPoint': 'Thomas Zellers', 'accessLevelComment': None, 'publisher': 'EDGAR', 'webService': None, 'bureauCode': '449', 'temporal': None, 'accessURL': None, 'modified': None, 'accessLevel': 'public'}, {'license': None, 'spatial': None, 'format': None, 'description': 'Rule 20a-1 Under the Investment Company Act of 1940, Solicitation of Proxies, Consents and Authorizations', 'identifier': '270-132', 'keyword': None, 'title': 'Rule 20a-1', 'programCode': 'Investment Management', 'mbox': 'opengov@sec.gov ', 'contactPoint': 'Thomas Zellers', 'accessLevelComment': None, 'publisher': 'EDGAR', 'webService': None, 'bureauCode': '449', 'temporal': None, 'accessURL': None, 'modified': None, 'accessLevel': 'public'}, {'license': None, 'spatial': None, 'format': None, 'description': 'Form N-5, registration statement of small business investment companies under the Securities Act of 1933 and the Investment Company Act of 1940.', 'identifier': '270-172', 'keyword': None, 'title': 'Form N-5', 'programCode': 'Investment Management', 'mbox': 'opengov@sec.gov ', 'contactPoint': 'Thomas Zellers', 'accessLevelComment': None, 'publisher': 'EDGAR', 'webService': None, 'bureauCode': '449', 'temporal': None, 'accessURL': None, 'modified': None, 'accessLevel': 'public'}, {'license': None, 'spatial': None, 'format': None, 'description': 'Form N-8A Notification of Registration filed pursuant to Section 8(a) of Investment Company Act of 1940', 'identifier': '270-135', 'keyword': None, 'title': 'Form N-8A', 'programCode': 'Investment Management', 'mbox': 'opengov@sec.gov ', 'contactPoint': 'Thomas Zellers', 'accessLevelComment': None, 'publisher': 'EDGAR', 'webService': None, 'bureauCode': '449', 'temporal': None, 'accessURL': None, 'modified': None, 'accessLevel': 'public'}, {'license': None, 'spatial': None, 'format': None, 'description': 'Form S-6 [17 CFR 239.16], for registration under the Securities Act of 1933 of Unit Investment Trusts registered on Form N-8B-2', 'identifier': '270-181', 'keyword': None, 'title': 'Form S-6', 'programCode': 'Investment Management', 'mbox': 'opengov@sec.gov ', 'contactPoint': 'Thomas Zellers', 'accessLevelComment': None, 'publisher': 'EDGAR', 'webService': None, 'bureauCode': '449', 'temporal': None, 'accessURL': None, 'modified': None, 'accessLevel': 'public'}, {'license': None, 'spatial': None, 'format': None, 'description': 'Form N-8B-2; Registration Statement of Unit Investment Trusts that are currently issuing securities.', 'identifier': '270-186', 'keyword': None, 'title': 'Form N-8B-2', 'programCode': 'Investment Management', 'mbox': 'opengov@sec.gov ', 'contactPoint': 'Thomas Zellers', 'accessLevelComment': None, 'publisher': 'EDGAR', 'webService': None, 'bureauCode': '449', 'temporal': None, 'accessURL': None, 'modified': None, 'accessLevel': 'public'}, {'license': None, 'spatial': None, 'format': None, 'description': 'Investment Company Act rule 18f-1, 17 C.F.R. Sec. 270.18f-1, exemption from certain requirements of section 18(f)(1) for registered open-end investment companies that have the right to redeem in kind; Form N-18F-1, notification of election.', 'identifier': '270-187', 'keyword': None, 'title': 'Form N-18F-1', 'programCode': 'Investment Management', 'mbox': 'opengov@sec.gov ', 'contactPoint': 'Thomas Zellers', 'accessLevelComment': None, 'publisher': 'EDGAR', 'webService': None, 'bureauCode': '449', 'temporal': None, 'accessURL': None, 'modified': None, 'accessLevel': 'public'}, {'license': None, 'spatial': None, 'format': None, 'description': 'Rule 17g-1 (17 CFR 270.17g-1) under the Investment Company Act of 1940: Bonding of Officers and Employees of Registered Management Investment Companies', 'identifier': '270-208', 'keyword': None, 'title': 'Rule 17g-1', 'programCode': 'Investment Management', 'mbox': 'opengov@sec.gov ', 'contactPoint': 'Thomas Zellers', 'accessLevelComment': None, 'publisher': 'EDGAR', 'webService': None, 'bureauCode': '449', 'temporal': None, 'accessURL': None, 'modified': None, 'accessLevel': 'public'}, {'license': None, 'spatial': None, 'format': None, 'description': 'Rule 30b2-1 (17 CFR 270.30b2-1) under the Investment Company Act of 1940, Filing of reports to stockholders', 'identifier': '270-213', 'keyword': None, 'title': 'Rule 30b2-1', 'programCode': 'Investment Management', 'mbox': 'opengov@sec.gov ', 'contactPoint': 'Thomas Zellers', 'accessLevelComment': None, 'publisher': 'EDGAR', 'webService': None, 'bureauCode': '449', 'temporal': None, 'accessURL': None, 'modified': None, 'accessLevel': 'public'}, {'license': None, 'spatial': None, 'format': None, 'description': 'Form 1-E Notification Under Regulation E; Rule 604-Filing of Notification on Form 1-E; Rule 605-Filing and Use of the Offering Circular', 'identifier': '270-221', 'keyword': None, 'title': 'Form 1-E', 'programCode': 'Investment Management', 'mbox': 'opengov@sec.gov ', 'contactPoint': 'Thomas Zellers', 'accessLevelComment': None, 'publisher': 'EDGAR', 'webService': None, 'bureauCode': '449', 'temporal': None, 'accessURL': None, 'modified': None, 'accessLevel': 'public'}, {'license': None, 'spatial': None, 'format': None, 'description': 'Form 2-E under the Securities Act of 1933, Report of Sales pursuant to Rule 609 of Regulation E. Rule 609 under the Securities Act of 1933, Report of Sales.', 'identifier': '270-222', 'keyword': None, 'title': 'Form 2-E ', 'programCode': 'Investment Management', 'mbox': 'opengov@sec.gov ', 'contactPoint': 'Thomas Zellers', 'accessLevelComment': None, 'publisher': 'EDGAR', 'webService': None, 'bureauCode': '449', 'temporal': None, 'accessURL': None, 'modified': None, 'accessLevel': 'public'}, {'license': None, 'spatial': None, 'format': None, 'description': 'Form N-54C under the Investment Company Act of 1940,Notification of Withdrawal of Election to be Subject to Sections 55 through 65 of the Investment Company Act of 1940 Filed Pursuant to Section 54(c)', 'identifier': '270-184', 'keyword': None, 'title': 'Form N-54C', 'programCode': 'Investment Management', 'mbox': 'opengov@sec.gov ', 'contactPoint': 'Thomas Zellers', 'accessLevelComment': None, 'publisher': 'EDGAR', 'webService': None, 'bureauCode': '449', 'temporal': None, 'accessURL': None, 'modified': None, 'accessLevel': 'public'}, {'license': None, 'spatial': None, 'format': None, 'description': 'Form N-54A under the Investment Company Act of 1940, notification of election to be subject to Sections 55 through 65 of the Invest ment Company Act of 1940 filed pursuant to Section 54(a) of the Act', 'identifier': '270-182', 'keyword': None, 'title': 'Form N-54A', 'programCode': 'Investment Management', 'mbox': 'opengov@sec.gov ', 'contactPoint': 'Thomas Zellers', 'accessLevelComment': None, 'publisher': 'EDGAR', 'webService': None, 'bureauCode': '449', 'temporal': None, 'accessURL': None, 'modified': None, 'accessLevel': 'public'}, {'license': None, 'spatial': None, 'format': None, 'description': 'Form N-8B-4 under the Investment Company Act of 1940-Registration Statement of Face-Amount Certificate Companies', 'identifier': '270-180', 'keyword': None, 'title': 'Form N-8B-4', 'programCode': 'Investment Management', 'mbox': 'opengov@sec.gov ', 'contactPoint': 'Thomas Zellers', 'accessLevelComment': None, 'publisher': 'EDGAR', 'webService': None, 'bureauCode': '449', 'temporal': None, 'accessURL': None, 'modified': None, 'accessLevel': 'public'}, {'license': None, 'spatial': None, 'format': None, 'description': 'Form N-1A under the Securities Act of 1933 and under the Investment Company Act of 1940, registration statement of open- end management investment companies', 'identifier': '270-21', 'keyword': None, 'title': 'Form N-1A', 'programCode': 'Investment Management', 'mbox': 'opengov@sec.gov ', 'contactPoint': 'Thomas Zellers', 'accessLevelComment': None, 'publisher': 'EDGAR', 'webService': None, 'bureauCode': '449', 'temporal': None, 'accessURL': None, 'modified': None, 'accessLevel': 'public'}, {'license': None, 'spatial': None, 'format': None, 'description': 'Rule 7d-1 (17 CFR 270.7d-1) under the Investment Company Act of 1940', 'identifier': '270-176', 'keyword': None, 'title': 'Rule 7d-1', 'programCode': 'Investment Management', 'mbox': 'opengov@sec.gov ', 'contactPoint': 'Thomas Zellers', 'accessLevelComment': None, 'publisher': 'EDGAR', 'webService': None, 'bureauCode': '449', 'temporal': None, 'accessURL': None, 'modified': None, 'accessLevel': 'public'}, {'license': None, 'spatial': None, 'format': None, 'description': 'Rule 203-2 and Form ADV-W under the Investment Advisers Act of 1940 , withdrawal form', 'identifier': '270-40', 'keyword': None, 'title': 'Rule 203-2, Form ADV-W ', 'programCode': 'Investment Management', 'mbox': 'opengov@sec.gov ', 'contactPoint': 'Thomas Zellers', 'accessLevelComment': None, 'publisher': 'FINRA', 'webService': None, 'bureauCode': '449', 'temporal': None, 'accessURL': None, 'modified': None, 'accessLevel': 'public'}, {'license': None, 'spatial': None, 'format': None, 'description': 'Form N-3 under the Securities Act of 1933 and under the Investment Company Act of 1940, registration statement of separate accounts organized as management investment companies', 'identifier': '270-281', 'keyword': None, 'title': 'Form N-3', 'programCode': 'Investment Management', 'mbox': 'opengov@sec.gov ', 'contactPoint': 'Thomas Zellers', 'accessLevelComment': None, 'publisher': 'EDGAR', 'webService': None, 'bureauCode': '449', 'temporal': None, 'accessURL': None, 'modified': None, 'accessLevel': 'public'}, {'license': None, 'spatial': None, 'format': None, 'description': 'Form N-4 (17 CFR 239.17b) under the Securities Act of 1933 and (17 CFR 274.11c) under the Investment Company Act of 1940, registration statement of separate accounts organized as unit investment trust', 'identifier': '270-282', 'keyword': None, 'title': 'Form N-4', 'programCode': 'Investment Management', 'mbox': 'opengov@sec.gov ', 'contactPoint': 'Thomas Zellers', 'accessLevelComment': None, 'publisher': 'EDGAR', 'webService': None, 'bureauCode': '449', 'temporal': None, 'accessURL': None, 'modified': None, 'accessLevel': 'public'}, {'license': None, 'spatial': None, 'format': None, 'description': 'Form N-SAR under the Investment Company Act of 1940, Semi-Annual Report for Registered Investment Companies', 'identifier': '270-292', 'keyword': None, 'title': 'Form N-SAR', 'programCode': 'Investment Management', 'mbox': 'opengov@sec.gov ', 'contactPoint': 'Thomas Zellers', 'accessLevelComment': None, 'publisher': 'EDGAR', 'webService': None, 'bureauCode': '449', 'temporal': None, 'accessURL': None, 'modified': None, 'accessLevel': 'public'}, {'license': None, 'spatial': None, 'format': None, 'description': 'Form N-14, for the registration of securities under the Securities Act of 1933 issued in business combination transactions by investment companies and business development companies.', 'identifier': '270-297', 'keyword': None, 'title': 'Form N-14', 'programCode': 'Investment Management', 'mbox': 'opengov@sec.gov', 'contactPoint': 'Thomas Zellers', 'accessLevelComment': None, 'publisher': 'EDGAR', 'webService': None, 'bureauCode': '449', 'temporal': None, 'accessURL': None, 'modified': None, 'accessLevel': 'public'}, {'license': None, 'spatial': None, 'format': None, 'description': 'Rule 34b-1 (17 CFR 270.34b-1) under the Investment Company Act of 1940, Sales Literature Deemed to be Misleading.', 'identifier': '270-305', 'keyword': None, 'title': 'Rule 34b-1', 'programCode': 'Investment Management', 'mbox': 'opengov@sec.gov', 'contactPoint': 'Thomas Zellers', 'accessLevelComment': None, 'publisher': 'EDGAR', 'webService': None, 'bureauCode': '449', 'temporal': None, 'accessURL': None, 'modified': None, 'accessLevel': 'public'}, {'license': None, 'spatial': None, 'format': None, 'description': 'Rule 19b-1 (17 CFR 270.19b-1) under the Investment Company Act of 1940 - Frequency of Distribution of Capital Gains', 'identifier': '270-312', 'keyword': None, 'title': 'Rule 19b-1 ', 'programCode': 'Investment Management', 'mbox': 'opengov@sec.gov', 'contactPoint': 'Thomas Zellers', 'accessLevelComment': None, 'publisher': 'EDGAR', 'webService': None, 'bureauCode': '449', 'temporal': None, 'accessURL': None, 'modified': None, 'accessLevel': 'public'}, {'license': None, 'spatial': None, 'format': None, 'description': 'Investment Company Act Form N-17f-1, Certificate of Accounting of Securities and similar Investments of a Management Investment Company in the Custody of Members of National Securities Exchange', 'identifier': '270-316', 'keyword': None, 'title': 'Form N-17f-1', 'programCode': 'Investment Management', 'mbox': 'opengov@sec.gov', 'contactPoint': 'Thomas Zellers', 'accessLevelComment': None, 'publisher': 'EDGAR', 'webService': None, 'bureauCode': '449', 'temporal': None, 'accessURL': None, 'modified': None, 'accessLevel': 'public'}, {'license': None, 'spatial': None, 'format': None, 'description': 'Form N-17f-2 (17 CFR 274.220), \"Certificate of Accounting of Securities and Similar Investments in the Custody of Management Investment Companies,\" filed pursuant to Investment Company Act Rule 17f-2', 'identifier': '270-317', 'keyword': None, 'title': 'Form N-17f-2 ', 'programCode': 'Investment Management', 'mbox': 'opengov@sec.gov', 'contactPoint': 'Thomas Zellers', 'accessLevelComment': None, 'publisher': 'EDGAR', 'webService': None, 'bureauCode': '449', 'temporal': None, 'accessURL': None, 'modified': None, 'accessLevel': 'public'}, {'license': None, 'spatial': None, 'format': None, 'description': 'Form F-N, Rule 489 (17 CFR 230.489) under the Securitis Act of 1933, Notification of appointment of an agent for service by certain foreign institutions', 'identifier': '270-361', 'keyword': None, 'title': 'Form F-N', 'programCode': 'Investment Management', 'mbox': 'opengov@sec.gov', 'contactPoint': 'Thomas Zellers', 'accessLevelComment': None, 'publisher': 'EDGAR', 'webService': None, 'bureauCode': '449', 'temporal': None, 'accessURL': None, 'modified': None, 'accessLevel': 'public'}, {'license': None, 'spatial': None, 'format': None, 'description': 'Rule 23c-3 (17 CFR 270.23-3) under the Investment Company Act of 1940, Repurchase Offers by Closed-End Companies and Form N-23c-3 (17 CFR 274.221) under the Investment Company Act of 1940', 'identifier': '270-373', 'keyword': None, 'title': 'Form N-23c-3', 'programCode': 'Investment Management', 'mbox': 'opengov@sec.gov', 'contactPoint': 'Thomas Zellers', 'accessLevelComment': None, 'publisher': 'EDGAR', 'webService': None, 'bureauCode': '449', 'temporal': None, 'accessURL': None, 'modified': None, 'accessLevel': 'public'}, {'license': None, 'spatial': None, 'format': None, 'description': 'Form 24F-2 (17 CFR 274.24) -- Annual Notice of Securities Sold Pursuant to Rule 24f-2', 'identifier': '270-399', 'keyword': None, 'title': 'Form 24F-2', 'programCode': 'Investment Management', 'mbox': 'opengov@sec.gov', 'contactPoint': 'Thomas Zellers', 'accessLevelComment': None, 'publisher': 'EDGAR', 'webService': None, 'bureauCode': '449', 'temporal': None, 'accessURL': None, 'modified': None, 'accessLevel': 'public'}, {'license': None, 'spatial': None, 'format': None, 'description': 'Form N-6 (17 CFR 239.17c) under the Securities Act of 1933 and (17 CFR 274.11d) under the Investment Company Act of 1940, Registration statement for separate accounts organized as unit investment trusts that offer variable life insurance policies', 'identifier': '270-446', 'keyword': None, 'title': 'Form N-6', 'programCode': 'Investment Management', 'mbox': 'opengov@sec.gov', 'contactPoint': 'Thomas Zellers', 'accessLevelComment': None, 'publisher': 'EDGAR', 'webService': None, 'bureauCode': '449', 'temporal': None, 'accessURL': None, 'modified': None, 'accessLevel': 'public'}, {'license': None, 'spatial': None, 'format': None, 'description': 'Rule 27d-1 (17 CFR 270.27d-1) under the Investment Company Act of 1940 \"Reserve Requirements for Principal Underwriters and Depositors to Carry Out the Obligations to Refund Charges and Form N-27d-1', 'identifier': '270-499', 'keyword': None, 'title': 'Form N-27D-1', 'programCode': 'Investment Management', 'mbox': 'opengov@sec.gov', 'contactPoint': 'Thomas Zellers', 'accessLevelComment': None, 'publisher': 'EDGAR', 'webService': None, 'bureauCode': '449', 'temporal': None, 'accessURL': None, 'modified': None, 'accessLevel': 'public'}, {'license': None, 'spatial': None, 'format': None, 'description': 'Rule 17d-1 Applications regarding joint enterprises or arrangements and certain profit-sharing plans', 'identifier': '270-505', 'keyword': None, 'title': 'Rule 17d-1', 'programCode': 'Investment Management', 'mbox': 'opengov@sec.gov', 'contactPoint': 'Thomas Zellers', 'accessLevelComment': None, 'publisher': 'EDGAR', 'webService': None, 'bureauCode': '449', 'temporal': None, 'accessURL': None, 'modified': None, 'accessLevel': 'public'}, {'license': None, 'spatial': None, 'format': None, 'description': 'Rule 482 under the Securities Act of 1933 Advertising by an Investment Company as Satisfying Requirements of Section 10', 'identifier': '270-508', 'keyword': None, 'title': 'Rule 482', 'programCode': 'Investment Management', 'mbox': 'opengov@sec.gov', 'contactPoint': 'Thomas Zellers', 'accessLevelComment': None, 'publisher': 'EDGAR', 'webService': None, 'bureauCode': '449', 'temporal': None, 'accessURL': None, 'modified': None, 'accessLevel': 'public'}, {'license': None, 'spatial': None, 'format': None, 'description': 'Form N-CSR under the Securities Exchange Act of 1934 and under the Investment Company Act of 1940, Certified Shareholder Report of Registered Management Investment Companies', 'identifier': '270-512', 'keyword': None, 'title': 'Form N-CSR', 'programCode': 'Investment Management', 'mbox': 'opengov@sec.gov', 'contactPoint': 'Thomas Zellers', 'accessLevelComment': None, 'publisher': 'EDGAR', 'webService': None, 'bureauCode': '449', 'temporal': None, 'accessURL': None, 'modified': None, 'accessLevel': 'public'}, {'license': None, 'spatial': None, 'format': None, 'description': 'Form N-Q, Quarterly Schedule of Portfolio Holdings of Registered Management Investment Company', 'identifier': '270-519', 'keyword': None, 'title': 'Form N-Q', 'programCode': 'Investment Management', 'mbox': 'opengov@sec.gov', 'contactPoint': 'Thomas Zellers', 'accessLevelComment': None, 'publisher': 'EDGAR', 'webService': None, 'bureauCode': '449', 'temporal': None, 'accessURL': None, 'modified': None, 'accessLevel': 'public'}, {'license': None, 'spatial': None, 'format': None, 'description': 'Form N-PX under the Investment Company Act of 1940, Annual Report of Proxy Voting Record of Registered Management Investment Company', 'identifier': '270-524', 'keyword': None, 'title': 'Form N-PX', 'programCode': 'Investment Management', 'mbox': 'opengov@sec.gov', 'contactPoint': 'Thomas Zellers', 'accessLevelComment': None, 'publisher': 'EDGAR', 'webService': None, 'bureauCode': '449', 'temporal': None, 'accessURL': None, 'modified': None, 'accessLevel': 'public'}, {'license': None, 'spatial': None, 'format': None, 'description': 'Rule 607 under Regulation E, Sales Material to Be Filed', 'identifier': '270-568', 'keyword': None, 'title': 'Rule 607', 'programCode': 'Investment Management', 'mbox': 'opengov@sec.gov', 'contactPoint': 'Thomas Zellers', 'accessLevelComment': None, 'publisher': 'EDGAR', 'webService': None, 'bureauCode': '449', 'temporal': None, 'accessURL': None, 'modified': None, 'accessLevel': 'public'}, {'license': None, 'spatial': None, 'format': None, 'description': 'Rule 0-2 under the Investment Company Act of 1940, General Requirements of Papers and Applications', 'identifier': '270-572', 'keyword': None, 'title': 'Rule 0-2', 'programCode': 'Investment Management', 'mbox': 'opengov@sec.gov', 'contactPoint': 'Thomas Zellers', 'accessLevelComment': None, 'publisher': 'EDGAR', 'webService': None, 'bureauCode': '449', 'temporal': None, 'accessURL': None, 'modified': None, 'accessLevel': 'public'}, {'license': None, 'spatial': None, 'format': None, 'description': 'Mutual Fund Interactive Data', 'identifier': '270-580', 'keyword': None, 'title': 'Mutual Fund Interactive Data', 'programCode': 'Investment Management', 'mbox': 'opengov@sec.gov', 'contactPoint': 'Thomas Zellers', 'accessLevelComment': None, 'publisher': 'EDGAR', 'webService': None, 'bureauCode': '449', 'temporal': None, 'accessURL': None, 'modified': None, 'accessLevel': 'public'}, {'license': None, 'spatial': None, 'format': None, 'description': 'Rule 498 under the Securities Act of 1933. Summary Prospectus for Open-End Management Investment Companies', 'identifier': '270-574', 'keyword': None, 'title': 'Rule 498', 'programCode': 'Investment Management', 'mbox': 'opengov@sec.gov', 'contactPoint': 'Thomas Zellers', 'accessLevelComment': None, 'publisher': 'EDGAR', 'webService': None, 'bureauCode': '449', 'temporal': None, 'accessURL': None, 'modified': None, 'accessLevel': 'public'}, {'license': None, 'spatial': None, 'format': None, 'description': 'Form N-6F under the Investment Company Act of 1940, Notice of intent to elect to be subject to Sections 55 through 65 of the Investment Company Act of 1940', 'identifier': '270-185', 'keyword': None, 'title': 'Form N-6F', 'programCode': 'Investment Management', 'mbox': 'opengov@sec.gov', 'contactPoint': 'Thomas Zellers', 'accessLevelComment': None, 'publisher': 'EDGAR', 'webService': None, 'bureauCode': '449', 'temporal': None, 'accessURL': None, 'modified': None, 'accessLevel': 'public'}, {'license': None, 'spatial': None, 'format': None, 'description': 'Form ADV-E, cover sheet for each certificate of accounting of client securities and funds in custody of an investment adviser', 'identifier': '270-318', 'keyword': None, 'title': 'Form ADV-E', 'programCode': 'Investment Management', 'mbox': 'opengov@sec.gov', 'contactPoint': 'Thomas Zellers', 'accessLevelComment': None, 'publisher': 'FINRA', 'webService': None, 'bureauCode': '449', 'temporal': None, 'accessURL': None, 'modified': None, 'accessLevel': 'public'}, {'license': None, 'spatial': None, 'format': None, 'description': 'Rule 30b1-7 (17 CFR 270.30b1-7) under the Investment Company Act of 1940, \"Monthly report for money market funds\" and Form N-MFP, \"Monthly schedule of portfolio holdings of money market funds.\"', 'identifier': '270-604', 'keyword': None, 'title': 'Rule 30b1-7, Form N-MFP', 'programCode': 'Investment Management', 'mbox': 'opengov@sec.gov', 'contactPoint': 'Thomas Zellers', 'accessLevelComment': None, 'publisher': 'EDGAR', 'webService': None, 'bureauCode': '449', 'temporal': None, 'accessURL': None, 'modified': None, 'accessLevel': 'Public'}]\n"
       ]
      }
     ],
     "prompt_number": 10
    },
    {
     "cell_type": "code",
     "collapsed": false,
     "input": [],
     "language": "python",
     "metadata": {},
     "outputs": [],
     "prompt_number": 10
    },
    {
     "cell_type": "code",
     "collapsed": false,
     "input": [],
     "language": "python",
     "metadata": {},
     "outputs": []
    }
   ],
   "metadata": {}
  }
 ]
}